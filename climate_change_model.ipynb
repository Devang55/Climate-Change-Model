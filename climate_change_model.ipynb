{
 "cells": [
  {
   "cell_type": "code",
   "execution_count": 65,
   "id": "e0fb9ecc",
   "metadata": {},
   "outputs": [],
   "source": [
    "import pandas as pd\n",
    "from sklearn.linear_model import Ridge\n",
    "from sklearn.metrics import mean_absolute_error, accuracy_score\n",
    "import seaborn as sns\n",
    "import matplotlib.pyplot as plt"
   ]
  },
  {
   "cell_type": "code",
   "execution_count": 2,
   "id": "7c5b7b66",
   "metadata": {},
   "outputs": [
    {
     "data": {
      "text/html": [
       "<div>\n",
       "<style scoped>\n",
       "    .dataframe tbody tr th:only-of-type {\n",
       "        vertical-align: middle;\n",
       "    }\n",
       "\n",
       "    .dataframe tbody tr th {\n",
       "        vertical-align: top;\n",
       "    }\n",
       "\n",
       "    .dataframe thead th {\n",
       "        text-align: right;\n",
       "    }\n",
       "</style>\n",
       "<table border=\"1\" class=\"dataframe\">\n",
       "  <thead>\n",
       "    <tr style=\"text-align: right;\">\n",
       "      <th></th>\n",
       "      <th>STATION</th>\n",
       "      <th>NAME</th>\n",
       "      <th>ACMH</th>\n",
       "      <th>ACSH</th>\n",
       "      <th>AWND</th>\n",
       "      <th>DAPR</th>\n",
       "      <th>FMTM</th>\n",
       "      <th>FRGT</th>\n",
       "      <th>MDPR</th>\n",
       "      <th>PGTM</th>\n",
       "      <th>...</th>\n",
       "      <th>WT01</th>\n",
       "      <th>WT02</th>\n",
       "      <th>WT03</th>\n",
       "      <th>WT04</th>\n",
       "      <th>WT05</th>\n",
       "      <th>WT07</th>\n",
       "      <th>WT08</th>\n",
       "      <th>WT09</th>\n",
       "      <th>WT16</th>\n",
       "      <th>WT18</th>\n",
       "    </tr>\n",
       "    <tr>\n",
       "      <th>DATE</th>\n",
       "      <th></th>\n",
       "      <th></th>\n",
       "      <th></th>\n",
       "      <th></th>\n",
       "      <th></th>\n",
       "      <th></th>\n",
       "      <th></th>\n",
       "      <th></th>\n",
       "      <th></th>\n",
       "      <th></th>\n",
       "      <th></th>\n",
       "      <th></th>\n",
       "      <th></th>\n",
       "      <th></th>\n",
       "      <th></th>\n",
       "      <th></th>\n",
       "      <th></th>\n",
       "      <th></th>\n",
       "      <th></th>\n",
       "      <th></th>\n",
       "      <th></th>\n",
       "    </tr>\n",
       "  </thead>\n",
       "  <tbody>\n",
       "    <tr>\n",
       "      <th>1960-01-01</th>\n",
       "      <td>USW00023230</td>\n",
       "      <td>OAKLAND INTERNATIONAL AIRPORT, CA US</td>\n",
       "      <td>NaN</td>\n",
       "      <td>NaN</td>\n",
       "      <td>NaN</td>\n",
       "      <td>NaN</td>\n",
       "      <td>NaN</td>\n",
       "      <td>NaN</td>\n",
       "      <td>NaN</td>\n",
       "      <td>NaN</td>\n",
       "      <td>...</td>\n",
       "      <td>NaN</td>\n",
       "      <td>NaN</td>\n",
       "      <td>NaN</td>\n",
       "      <td>NaN</td>\n",
       "      <td>NaN</td>\n",
       "      <td>NaN</td>\n",
       "      <td>NaN</td>\n",
       "      <td>NaN</td>\n",
       "      <td>NaN</td>\n",
       "      <td>NaN</td>\n",
       "    </tr>\n",
       "    <tr>\n",
       "      <th>1960-01-02</th>\n",
       "      <td>USW00023230</td>\n",
       "      <td>OAKLAND INTERNATIONAL AIRPORT, CA US</td>\n",
       "      <td>NaN</td>\n",
       "      <td>NaN</td>\n",
       "      <td>NaN</td>\n",
       "      <td>NaN</td>\n",
       "      <td>NaN</td>\n",
       "      <td>NaN</td>\n",
       "      <td>NaN</td>\n",
       "      <td>NaN</td>\n",
       "      <td>...</td>\n",
       "      <td>NaN</td>\n",
       "      <td>NaN</td>\n",
       "      <td>NaN</td>\n",
       "      <td>NaN</td>\n",
       "      <td>NaN</td>\n",
       "      <td>NaN</td>\n",
       "      <td>NaN</td>\n",
       "      <td>NaN</td>\n",
       "      <td>1.0</td>\n",
       "      <td>NaN</td>\n",
       "    </tr>\n",
       "    <tr>\n",
       "      <th>1960-01-03</th>\n",
       "      <td>USW00023230</td>\n",
       "      <td>OAKLAND INTERNATIONAL AIRPORT, CA US</td>\n",
       "      <td>NaN</td>\n",
       "      <td>NaN</td>\n",
       "      <td>NaN</td>\n",
       "      <td>NaN</td>\n",
       "      <td>NaN</td>\n",
       "      <td>NaN</td>\n",
       "      <td>NaN</td>\n",
       "      <td>NaN</td>\n",
       "      <td>...</td>\n",
       "      <td>NaN</td>\n",
       "      <td>NaN</td>\n",
       "      <td>NaN</td>\n",
       "      <td>NaN</td>\n",
       "      <td>NaN</td>\n",
       "      <td>NaN</td>\n",
       "      <td>NaN</td>\n",
       "      <td>NaN</td>\n",
       "      <td>NaN</td>\n",
       "      <td>NaN</td>\n",
       "    </tr>\n",
       "    <tr>\n",
       "      <th>1960-01-04</th>\n",
       "      <td>USW00023230</td>\n",
       "      <td>OAKLAND INTERNATIONAL AIRPORT, CA US</td>\n",
       "      <td>NaN</td>\n",
       "      <td>NaN</td>\n",
       "      <td>NaN</td>\n",
       "      <td>NaN</td>\n",
       "      <td>NaN</td>\n",
       "      <td>NaN</td>\n",
       "      <td>NaN</td>\n",
       "      <td>NaN</td>\n",
       "      <td>...</td>\n",
       "      <td>NaN</td>\n",
       "      <td>NaN</td>\n",
       "      <td>NaN</td>\n",
       "      <td>NaN</td>\n",
       "      <td>NaN</td>\n",
       "      <td>NaN</td>\n",
       "      <td>NaN</td>\n",
       "      <td>NaN</td>\n",
       "      <td>NaN</td>\n",
       "      <td>NaN</td>\n",
       "    </tr>\n",
       "    <tr>\n",
       "      <th>1960-01-05</th>\n",
       "      <td>USW00023230</td>\n",
       "      <td>OAKLAND INTERNATIONAL AIRPORT, CA US</td>\n",
       "      <td>NaN</td>\n",
       "      <td>NaN</td>\n",
       "      <td>NaN</td>\n",
       "      <td>NaN</td>\n",
       "      <td>NaN</td>\n",
       "      <td>NaN</td>\n",
       "      <td>NaN</td>\n",
       "      <td>NaN</td>\n",
       "      <td>...</td>\n",
       "      <td>1.0</td>\n",
       "      <td>NaN</td>\n",
       "      <td>NaN</td>\n",
       "      <td>NaN</td>\n",
       "      <td>NaN</td>\n",
       "      <td>NaN</td>\n",
       "      <td>1.0</td>\n",
       "      <td>NaN</td>\n",
       "      <td>NaN</td>\n",
       "      <td>NaN</td>\n",
       "    </tr>\n",
       "    <tr>\n",
       "      <th>...</th>\n",
       "      <td>...</td>\n",
       "      <td>...</td>\n",
       "      <td>...</td>\n",
       "      <td>...</td>\n",
       "      <td>...</td>\n",
       "      <td>...</td>\n",
       "      <td>...</td>\n",
       "      <td>...</td>\n",
       "      <td>...</td>\n",
       "      <td>...</td>\n",
       "      <td>...</td>\n",
       "      <td>...</td>\n",
       "      <td>...</td>\n",
       "      <td>...</td>\n",
       "      <td>...</td>\n",
       "      <td>...</td>\n",
       "      <td>...</td>\n",
       "      <td>...</td>\n",
       "      <td>...</td>\n",
       "      <td>...</td>\n",
       "      <td>...</td>\n",
       "    </tr>\n",
       "    <tr>\n",
       "      <th>2024-08-28</th>\n",
       "      <td>USW00023230</td>\n",
       "      <td>OAKLAND INTERNATIONAL AIRPORT, CA US</td>\n",
       "      <td>NaN</td>\n",
       "      <td>NaN</td>\n",
       "      <td>9.40</td>\n",
       "      <td>NaN</td>\n",
       "      <td>NaN</td>\n",
       "      <td>NaN</td>\n",
       "      <td>NaN</td>\n",
       "      <td>NaN</td>\n",
       "      <td>...</td>\n",
       "      <td>1.0</td>\n",
       "      <td>NaN</td>\n",
       "      <td>NaN</td>\n",
       "      <td>NaN</td>\n",
       "      <td>NaN</td>\n",
       "      <td>NaN</td>\n",
       "      <td>NaN</td>\n",
       "      <td>NaN</td>\n",
       "      <td>NaN</td>\n",
       "      <td>NaN</td>\n",
       "    </tr>\n",
       "    <tr>\n",
       "      <th>2024-08-29</th>\n",
       "      <td>USW00023230</td>\n",
       "      <td>OAKLAND INTERNATIONAL AIRPORT, CA US</td>\n",
       "      <td>NaN</td>\n",
       "      <td>NaN</td>\n",
       "      <td>9.40</td>\n",
       "      <td>NaN</td>\n",
       "      <td>NaN</td>\n",
       "      <td>NaN</td>\n",
       "      <td>NaN</td>\n",
       "      <td>NaN</td>\n",
       "      <td>...</td>\n",
       "      <td>NaN</td>\n",
       "      <td>NaN</td>\n",
       "      <td>NaN</td>\n",
       "      <td>NaN</td>\n",
       "      <td>NaN</td>\n",
       "      <td>NaN</td>\n",
       "      <td>NaN</td>\n",
       "      <td>NaN</td>\n",
       "      <td>NaN</td>\n",
       "      <td>NaN</td>\n",
       "    </tr>\n",
       "    <tr>\n",
       "      <th>2024-08-30</th>\n",
       "      <td>USW00023230</td>\n",
       "      <td>OAKLAND INTERNATIONAL AIRPORT, CA US</td>\n",
       "      <td>NaN</td>\n",
       "      <td>NaN</td>\n",
       "      <td>8.50</td>\n",
       "      <td>NaN</td>\n",
       "      <td>NaN</td>\n",
       "      <td>NaN</td>\n",
       "      <td>NaN</td>\n",
       "      <td>NaN</td>\n",
       "      <td>...</td>\n",
       "      <td>NaN</td>\n",
       "      <td>NaN</td>\n",
       "      <td>NaN</td>\n",
       "      <td>NaN</td>\n",
       "      <td>NaN</td>\n",
       "      <td>NaN</td>\n",
       "      <td>NaN</td>\n",
       "      <td>NaN</td>\n",
       "      <td>NaN</td>\n",
       "      <td>NaN</td>\n",
       "    </tr>\n",
       "    <tr>\n",
       "      <th>2024-08-31</th>\n",
       "      <td>USW00023230</td>\n",
       "      <td>OAKLAND INTERNATIONAL AIRPORT, CA US</td>\n",
       "      <td>NaN</td>\n",
       "      <td>NaN</td>\n",
       "      <td>10.51</td>\n",
       "      <td>NaN</td>\n",
       "      <td>NaN</td>\n",
       "      <td>NaN</td>\n",
       "      <td>NaN</td>\n",
       "      <td>1532.0</td>\n",
       "      <td>...</td>\n",
       "      <td>NaN</td>\n",
       "      <td>NaN</td>\n",
       "      <td>NaN</td>\n",
       "      <td>NaN</td>\n",
       "      <td>NaN</td>\n",
       "      <td>NaN</td>\n",
       "      <td>NaN</td>\n",
       "      <td>NaN</td>\n",
       "      <td>NaN</td>\n",
       "      <td>NaN</td>\n",
       "    </tr>\n",
       "    <tr>\n",
       "      <th>2024-09-01</th>\n",
       "      <td>USW00023230</td>\n",
       "      <td>OAKLAND INTERNATIONAL AIRPORT, CA US</td>\n",
       "      <td>NaN</td>\n",
       "      <td>NaN</td>\n",
       "      <td>NaN</td>\n",
       "      <td>NaN</td>\n",
       "      <td>NaN</td>\n",
       "      <td>NaN</td>\n",
       "      <td>NaN</td>\n",
       "      <td>NaN</td>\n",
       "      <td>...</td>\n",
       "      <td>NaN</td>\n",
       "      <td>NaN</td>\n",
       "      <td>NaN</td>\n",
       "      <td>NaN</td>\n",
       "      <td>NaN</td>\n",
       "      <td>NaN</td>\n",
       "      <td>NaN</td>\n",
       "      <td>NaN</td>\n",
       "      <td>NaN</td>\n",
       "      <td>NaN</td>\n",
       "    </tr>\n",
       "  </tbody>\n",
       "</table>\n",
       "<p>17807 rows × 35 columns</p>\n",
       "</div>"
      ],
      "text/plain": [
       "                STATION                                  NAME  ACMH  ACSH  \\\n",
       "DATE                                                                        \n",
       "1960-01-01  USW00023230  OAKLAND INTERNATIONAL AIRPORT, CA US   NaN   NaN   \n",
       "1960-01-02  USW00023230  OAKLAND INTERNATIONAL AIRPORT, CA US   NaN   NaN   \n",
       "1960-01-03  USW00023230  OAKLAND INTERNATIONAL AIRPORT, CA US   NaN   NaN   \n",
       "1960-01-04  USW00023230  OAKLAND INTERNATIONAL AIRPORT, CA US   NaN   NaN   \n",
       "1960-01-05  USW00023230  OAKLAND INTERNATIONAL AIRPORT, CA US   NaN   NaN   \n",
       "...                 ...                                   ...   ...   ...   \n",
       "2024-08-28  USW00023230  OAKLAND INTERNATIONAL AIRPORT, CA US   NaN   NaN   \n",
       "2024-08-29  USW00023230  OAKLAND INTERNATIONAL AIRPORT, CA US   NaN   NaN   \n",
       "2024-08-30  USW00023230  OAKLAND INTERNATIONAL AIRPORT, CA US   NaN   NaN   \n",
       "2024-08-31  USW00023230  OAKLAND INTERNATIONAL AIRPORT, CA US   NaN   NaN   \n",
       "2024-09-01  USW00023230  OAKLAND INTERNATIONAL AIRPORT, CA US   NaN   NaN   \n",
       "\n",
       "             AWND  DAPR  FMTM  FRGT  MDPR    PGTM  ...  WT01  WT02  WT03  \\\n",
       "DATE                                               ...                     \n",
       "1960-01-01    NaN   NaN   NaN   NaN   NaN     NaN  ...   NaN   NaN   NaN   \n",
       "1960-01-02    NaN   NaN   NaN   NaN   NaN     NaN  ...   NaN   NaN   NaN   \n",
       "1960-01-03    NaN   NaN   NaN   NaN   NaN     NaN  ...   NaN   NaN   NaN   \n",
       "1960-01-04    NaN   NaN   NaN   NaN   NaN     NaN  ...   NaN   NaN   NaN   \n",
       "1960-01-05    NaN   NaN   NaN   NaN   NaN     NaN  ...   1.0   NaN   NaN   \n",
       "...           ...   ...   ...   ...   ...     ...  ...   ...   ...   ...   \n",
       "2024-08-28   9.40   NaN   NaN   NaN   NaN     NaN  ...   1.0   NaN   NaN   \n",
       "2024-08-29   9.40   NaN   NaN   NaN   NaN     NaN  ...   NaN   NaN   NaN   \n",
       "2024-08-30   8.50   NaN   NaN   NaN   NaN     NaN  ...   NaN   NaN   NaN   \n",
       "2024-08-31  10.51   NaN   NaN   NaN   NaN  1532.0  ...   NaN   NaN   NaN   \n",
       "2024-09-01    NaN   NaN   NaN   NaN   NaN     NaN  ...   NaN   NaN   NaN   \n",
       "\n",
       "            WT04  WT05  WT07  WT08  WT09  WT16  WT18  \n",
       "DATE                                                  \n",
       "1960-01-01   NaN   NaN   NaN   NaN   NaN   NaN   NaN  \n",
       "1960-01-02   NaN   NaN   NaN   NaN   NaN   1.0   NaN  \n",
       "1960-01-03   NaN   NaN   NaN   NaN   NaN   NaN   NaN  \n",
       "1960-01-04   NaN   NaN   NaN   NaN   NaN   NaN   NaN  \n",
       "1960-01-05   NaN   NaN   NaN   1.0   NaN   NaN   NaN  \n",
       "...          ...   ...   ...   ...   ...   ...   ...  \n",
       "2024-08-28   NaN   NaN   NaN   NaN   NaN   NaN   NaN  \n",
       "2024-08-29   NaN   NaN   NaN   NaN   NaN   NaN   NaN  \n",
       "2024-08-30   NaN   NaN   NaN   NaN   NaN   NaN   NaN  \n",
       "2024-08-31   NaN   NaN   NaN   NaN   NaN   NaN   NaN  \n",
       "2024-09-01   NaN   NaN   NaN   NaN   NaN   NaN   NaN  \n",
       "\n",
       "[17807 rows x 35 columns]"
      ]
     },
     "execution_count": 2,
     "metadata": {},
     "output_type": "execute_result"
    }
   ],
   "source": [
    "weather = pd.read_csv(\"climate_data.csv\", index_col=\"DATE\")\n",
    "weather"
   ]
  },
  {
   "cell_type": "code",
   "execution_count": 3,
   "id": "542450bf",
   "metadata": {},
   "outputs": [
    {
     "data": {
      "text/plain": [
       "STATION        0\n",
       "NAME           0\n",
       "ACMH       11963\n",
       "ACSH       11963\n",
       "AWND        8808\n",
       "DAPR       17799\n",
       "FMTM       15617\n",
       "FRGT       17805\n",
       "MDPR       17799\n",
       "PGTM        9294\n",
       "PRCP         284\n",
       "SNOW        6427\n",
       "SNWD        6303\n",
       "TAVG       15770\n",
       "TMAX          11\n",
       "TMIN          14\n",
       "TSUN       16656\n",
       "WDF1       11963\n",
       "WDF2        8807\n",
       "WDF5        8896\n",
       "WDFG       13540\n",
       "WSF1       11963\n",
       "WSF2        8806\n",
       "WSF5        8896\n",
       "WSFG       13540\n",
       "WT01       13830\n",
       "WT02       17457\n",
       "WT03       17673\n",
       "WT04       17803\n",
       "WT05       17778\n",
       "WT07       17805\n",
       "WT08       14556\n",
       "WT09       17805\n",
       "WT16       15852\n",
       "WT18       17804\n",
       "dtype: int64"
      ]
     },
     "execution_count": 3,
     "metadata": {},
     "output_type": "execute_result"
    }
   ],
   "source": [
    "weather.isnull().sum() #sum of missing values in each column"
   ]
  },
  {
   "cell_type": "code",
   "execution_count": 4,
   "id": "bfe6d18b",
   "metadata": {},
   "outputs": [],
   "source": [
    "core_weather = weather[[\"PRCP\", \"SNOW\", \"SNWD\", \"TMAX\", \"TMIN\"]].copy() #core features of the dataset as per documentation"
   ]
  },
  {
   "cell_type": "code",
   "execution_count": 5,
   "id": "7da32b1d",
   "metadata": {},
   "outputs": [],
   "source": [
    "core_weather.columns = [\"precipitation\", \"snow\", \"snow_depth\", \"temp_max\", \"temp_min\"] #renaming the columns"
   ]
  },
  {
   "cell_type": "code",
   "execution_count": 6,
   "id": "68d5d844",
   "metadata": {},
   "outputs": [
    {
     "data": {
      "text/html": [
       "<div>\n",
       "<style scoped>\n",
       "    .dataframe tbody tr th:only-of-type {\n",
       "        vertical-align: middle;\n",
       "    }\n",
       "\n",
       "    .dataframe tbody tr th {\n",
       "        vertical-align: top;\n",
       "    }\n",
       "\n",
       "    .dataframe thead th {\n",
       "        text-align: right;\n",
       "    }\n",
       "</style>\n",
       "<table border=\"1\" class=\"dataframe\">\n",
       "  <thead>\n",
       "    <tr style=\"text-align: right;\">\n",
       "      <th></th>\n",
       "      <th>precipitation</th>\n",
       "      <th>snow</th>\n",
       "      <th>snow_depth</th>\n",
       "      <th>temp_max</th>\n",
       "      <th>temp_min</th>\n",
       "    </tr>\n",
       "    <tr>\n",
       "      <th>DATE</th>\n",
       "      <th></th>\n",
       "      <th></th>\n",
       "      <th></th>\n",
       "      <th></th>\n",
       "      <th></th>\n",
       "    </tr>\n",
       "  </thead>\n",
       "  <tbody>\n",
       "    <tr>\n",
       "      <th>1960-01-01</th>\n",
       "      <td>0.0</td>\n",
       "      <td>0.0</td>\n",
       "      <td>0.0</td>\n",
       "      <td>49.0</td>\n",
       "      <td>30.0</td>\n",
       "    </tr>\n",
       "    <tr>\n",
       "      <th>1960-01-02</th>\n",
       "      <td>0.0</td>\n",
       "      <td>0.0</td>\n",
       "      <td>0.0</td>\n",
       "      <td>49.0</td>\n",
       "      <td>29.0</td>\n",
       "    </tr>\n",
       "    <tr>\n",
       "      <th>1960-01-03</th>\n",
       "      <td>0.0</td>\n",
       "      <td>0.0</td>\n",
       "      <td>0.0</td>\n",
       "      <td>54.0</td>\n",
       "      <td>35.0</td>\n",
       "    </tr>\n",
       "    <tr>\n",
       "      <th>1960-01-04</th>\n",
       "      <td>0.0</td>\n",
       "      <td>0.0</td>\n",
       "      <td>0.0</td>\n",
       "      <td>54.0</td>\n",
       "      <td>36.0</td>\n",
       "    </tr>\n",
       "    <tr>\n",
       "      <th>1960-01-05</th>\n",
       "      <td>0.0</td>\n",
       "      <td>0.0</td>\n",
       "      <td>0.0</td>\n",
       "      <td>55.0</td>\n",
       "      <td>33.0</td>\n",
       "    </tr>\n",
       "    <tr>\n",
       "      <th>...</th>\n",
       "      <td>...</td>\n",
       "      <td>...</td>\n",
       "      <td>...</td>\n",
       "      <td>...</td>\n",
       "      <td>...</td>\n",
       "    </tr>\n",
       "    <tr>\n",
       "      <th>2024-08-28</th>\n",
       "      <td>0.0</td>\n",
       "      <td>NaN</td>\n",
       "      <td>NaN</td>\n",
       "      <td>75.0</td>\n",
       "      <td>58.0</td>\n",
       "    </tr>\n",
       "    <tr>\n",
       "      <th>2024-08-29</th>\n",
       "      <td>0.0</td>\n",
       "      <td>NaN</td>\n",
       "      <td>NaN</td>\n",
       "      <td>72.0</td>\n",
       "      <td>61.0</td>\n",
       "    </tr>\n",
       "    <tr>\n",
       "      <th>2024-08-30</th>\n",
       "      <td>0.0</td>\n",
       "      <td>NaN</td>\n",
       "      <td>NaN</td>\n",
       "      <td>74.0</td>\n",
       "      <td>62.0</td>\n",
       "    </tr>\n",
       "    <tr>\n",
       "      <th>2024-08-31</th>\n",
       "      <td>0.0</td>\n",
       "      <td>NaN</td>\n",
       "      <td>NaN</td>\n",
       "      <td>74.0</td>\n",
       "      <td>61.0</td>\n",
       "    </tr>\n",
       "    <tr>\n",
       "      <th>2024-09-01</th>\n",
       "      <td>0.0</td>\n",
       "      <td>NaN</td>\n",
       "      <td>NaN</td>\n",
       "      <td>76.0</td>\n",
       "      <td>61.0</td>\n",
       "    </tr>\n",
       "  </tbody>\n",
       "</table>\n",
       "<p>17807 rows × 5 columns</p>\n",
       "</div>"
      ],
      "text/plain": [
       "            precipitation  snow  snow_depth  temp_max  temp_min\n",
       "DATE                                                           \n",
       "1960-01-01            0.0   0.0         0.0      49.0      30.0\n",
       "1960-01-02            0.0   0.0         0.0      49.0      29.0\n",
       "1960-01-03            0.0   0.0         0.0      54.0      35.0\n",
       "1960-01-04            0.0   0.0         0.0      54.0      36.0\n",
       "1960-01-05            0.0   0.0         0.0      55.0      33.0\n",
       "...                   ...   ...         ...       ...       ...\n",
       "2024-08-28            0.0   NaN         NaN      75.0      58.0\n",
       "2024-08-29            0.0   NaN         NaN      72.0      61.0\n",
       "2024-08-30            0.0   NaN         NaN      74.0      62.0\n",
       "2024-08-31            0.0   NaN         NaN      74.0      61.0\n",
       "2024-09-01            0.0   NaN         NaN      76.0      61.0\n",
       "\n",
       "[17807 rows x 5 columns]"
      ]
     },
     "execution_count": 6,
     "metadata": {},
     "output_type": "execute_result"
    }
   ],
   "source": [
    "core_weather"
   ]
  },
  {
   "cell_type": "raw",
   "id": "bd379ad2",
   "metadata": {},
   "source": [
    "#DATA CLEANING\n",
    "-Check for valuable insights using 'value_counts()'\n",
    "-Handle the missing values"
   ]
  },
  {
   "cell_type": "code",
   "execution_count": 7,
   "id": "2e20b517",
   "metadata": {},
   "outputs": [
    {
     "data": {
      "text/plain": [
       "precipitation     284\n",
       "snow             6427\n",
       "snow_depth       6303\n",
       "temp_max           11\n",
       "temp_min           14\n",
       "dtype: int64"
      ]
     },
     "execution_count": 7,
     "metadata": {},
     "output_type": "execute_result"
    }
   ],
   "source": [
    "core_weather.isnull().sum() #sum of missing values in new dataframe"
   ]
  },
  {
   "cell_type": "code",
   "execution_count": 8,
   "id": "188ff7ad",
   "metadata": {},
   "outputs": [
    {
     "data": {
      "text/plain": [
       "0.0    11379\n",
       "1.0        1\n",
       "Name: snow, dtype: int64"
      ]
     },
     "execution_count": 8,
     "metadata": {},
     "output_type": "execute_result"
    }
   ],
   "source": [
    "core_weather[\"snow\"].value_counts()"
   ]
  },
  {
   "cell_type": "code",
   "execution_count": 9,
   "id": "292bbaf4",
   "metadata": {},
   "outputs": [],
   "source": [
    "del core_weather[\"snow\"] #deleting 'snow' column as it does not provide good insight"
   ]
  },
  {
   "cell_type": "code",
   "execution_count": 10,
   "id": "bc87c17f",
   "metadata": {},
   "outputs": [
    {
     "data": {
      "text/plain": [
       "0.0    11504\n",
       "Name: snow_depth, dtype: int64"
      ]
     },
     "execution_count": 10,
     "metadata": {},
     "output_type": "execute_result"
    }
   ],
   "source": [
    "core_weather[\"snow_depth\"].value_counts()"
   ]
  },
  {
   "cell_type": "code",
   "execution_count": 11,
   "id": "e15250b3",
   "metadata": {},
   "outputs": [],
   "source": [
    "del core_weather[\"snow_depth\"] #deleting 'snow_depth' column as it does not provide good insight"
   ]
  },
  {
   "cell_type": "code",
   "execution_count": 12,
   "id": "e9fd07dd",
   "metadata": {},
   "outputs": [
    {
     "data": {
      "text/plain": [
       "0.00    14468\n",
       "0.01      445\n",
       "0.02      205\n",
       "0.03      126\n",
       "0.04      106\n",
       "        ...  \n",
       "1.38        1\n",
       "1.95        1\n",
       "2.01        1\n",
       "1.41        1\n",
       "1.28        1\n",
       "Name: precipitation, Length: 179, dtype: int64"
      ]
     },
     "execution_count": 12,
     "metadata": {},
     "output_type": "execute_result"
    }
   ],
   "source": [
    "core_weather[\"precipitation\"].value_counts()"
   ]
  },
  {
   "cell_type": "code",
   "execution_count": 13,
   "id": "7dd50385",
   "metadata": {},
   "outputs": [],
   "source": [
    "#As 'precipitation' column does have valuable data lets fill the missing data.\n",
    "#Filling data with '0' as it has most counts\n",
    "core_weather[\"precipitation\"] = core_weather[\"precipitation\"].fillna(0)"
   ]
  },
  {
   "cell_type": "code",
   "execution_count": 14,
   "id": "fa4d06da",
   "metadata": {},
   "outputs": [],
   "source": [
    "#'temp_max' and 'temp_min' have lesser null values from above observation\n",
    "#Filling data with 'Forward Fill' concept\n",
    "core_weather = core_weather.fillna(method=\"ffill\")"
   ]
  },
  {
   "cell_type": "code",
   "execution_count": 15,
   "id": "6ce0f600",
   "metadata": {},
   "outputs": [
    {
     "data": {
      "text/plain": [
       "precipitation    0\n",
       "temp_max         0\n",
       "temp_min         0\n",
       "dtype: int64"
      ]
     },
     "execution_count": 15,
     "metadata": {},
     "output_type": "execute_result"
    }
   ],
   "source": [
    "core_weather.isnull().sum() #Recheck for null values"
   ]
  },
  {
   "cell_type": "code",
   "execution_count": 16,
   "id": "6b6a3d93",
   "metadata": {},
   "outputs": [
    {
     "data": {
      "text/html": [
       "<div>\n",
       "<style scoped>\n",
       "    .dataframe tbody tr th:only-of-type {\n",
       "        vertical-align: middle;\n",
       "    }\n",
       "\n",
       "    .dataframe tbody tr th {\n",
       "        vertical-align: top;\n",
       "    }\n",
       "\n",
       "    .dataframe thead th {\n",
       "        text-align: right;\n",
       "    }\n",
       "</style>\n",
       "<table border=\"1\" class=\"dataframe\">\n",
       "  <thead>\n",
       "    <tr style=\"text-align: right;\">\n",
       "      <th></th>\n",
       "      <th>precipitation</th>\n",
       "      <th>temp_max</th>\n",
       "      <th>temp_min</th>\n",
       "    </tr>\n",
       "    <tr>\n",
       "      <th>DATE</th>\n",
       "      <th></th>\n",
       "      <th></th>\n",
       "      <th></th>\n",
       "    </tr>\n",
       "  </thead>\n",
       "  <tbody>\n",
       "    <tr>\n",
       "      <th>1960-01-01</th>\n",
       "      <td>0.0</td>\n",
       "      <td>49.0</td>\n",
       "      <td>30.0</td>\n",
       "    </tr>\n",
       "    <tr>\n",
       "      <th>1960-01-02</th>\n",
       "      <td>0.0</td>\n",
       "      <td>49.0</td>\n",
       "      <td>29.0</td>\n",
       "    </tr>\n",
       "    <tr>\n",
       "      <th>1960-01-03</th>\n",
       "      <td>0.0</td>\n",
       "      <td>54.0</td>\n",
       "      <td>35.0</td>\n",
       "    </tr>\n",
       "    <tr>\n",
       "      <th>1960-01-04</th>\n",
       "      <td>0.0</td>\n",
       "      <td>54.0</td>\n",
       "      <td>36.0</td>\n",
       "    </tr>\n",
       "    <tr>\n",
       "      <th>1960-01-05</th>\n",
       "      <td>0.0</td>\n",
       "      <td>55.0</td>\n",
       "      <td>33.0</td>\n",
       "    </tr>\n",
       "    <tr>\n",
       "      <th>...</th>\n",
       "      <td>...</td>\n",
       "      <td>...</td>\n",
       "      <td>...</td>\n",
       "    </tr>\n",
       "    <tr>\n",
       "      <th>2024-08-28</th>\n",
       "      <td>0.0</td>\n",
       "      <td>75.0</td>\n",
       "      <td>58.0</td>\n",
       "    </tr>\n",
       "    <tr>\n",
       "      <th>2024-08-29</th>\n",
       "      <td>0.0</td>\n",
       "      <td>72.0</td>\n",
       "      <td>61.0</td>\n",
       "    </tr>\n",
       "    <tr>\n",
       "      <th>2024-08-30</th>\n",
       "      <td>0.0</td>\n",
       "      <td>74.0</td>\n",
       "      <td>62.0</td>\n",
       "    </tr>\n",
       "    <tr>\n",
       "      <th>2024-08-31</th>\n",
       "      <td>0.0</td>\n",
       "      <td>74.0</td>\n",
       "      <td>61.0</td>\n",
       "    </tr>\n",
       "    <tr>\n",
       "      <th>2024-09-01</th>\n",
       "      <td>0.0</td>\n",
       "      <td>76.0</td>\n",
       "      <td>61.0</td>\n",
       "    </tr>\n",
       "  </tbody>\n",
       "</table>\n",
       "<p>17807 rows × 3 columns</p>\n",
       "</div>"
      ],
      "text/plain": [
       "            precipitation  temp_max  temp_min\n",
       "DATE                                         \n",
       "1960-01-01            0.0      49.0      30.0\n",
       "1960-01-02            0.0      49.0      29.0\n",
       "1960-01-03            0.0      54.0      35.0\n",
       "1960-01-04            0.0      54.0      36.0\n",
       "1960-01-05            0.0      55.0      33.0\n",
       "...                   ...       ...       ...\n",
       "2024-08-28            0.0      75.0      58.0\n",
       "2024-08-29            0.0      72.0      61.0\n",
       "2024-08-30            0.0      74.0      62.0\n",
       "2024-08-31            0.0      74.0      61.0\n",
       "2024-09-01            0.0      76.0      61.0\n",
       "\n",
       "[17807 rows x 3 columns]"
      ]
     },
     "execution_count": 16,
     "metadata": {},
     "output_type": "execute_result"
    }
   ],
   "source": [
    "core_weather"
   ]
  },
  {
   "cell_type": "raw",
   "id": "5cbfa565",
   "metadata": {},
   "source": [
    "#Verify the data types"
   ]
  },
  {
   "cell_type": "code",
   "execution_count": 17,
   "id": "6cb0aacb",
   "metadata": {},
   "outputs": [
    {
     "data": {
      "text/plain": [
       "precipitation    float64\n",
       "temp_max         float64\n",
       "temp_min         float64\n",
       "dtype: object"
      ]
     },
     "execution_count": 17,
     "metadata": {},
     "output_type": "execute_result"
    }
   ],
   "source": [
    "core_weather.dtypes"
   ]
  },
  {
   "cell_type": "code",
   "execution_count": 18,
   "id": "56ccc9e9",
   "metadata": {},
   "outputs": [
    {
     "data": {
      "text/plain": [
       "Index(['1960-01-01', '1960-01-02', '1960-01-03', '1960-01-04', '1960-01-05',\n",
       "       '1960-01-06', '1960-01-07', '1960-01-08', '1960-01-09', '1960-01-10',\n",
       "       ...\n",
       "       '2024-08-23', '2024-08-24', '2024-08-25', '2024-08-26', '2024-08-27',\n",
       "       '2024-08-28', '2024-08-29', '2024-08-30', '2024-08-31', '2024-09-01'],\n",
       "      dtype='object', name='DATE', length=17807)"
      ]
     },
     "execution_count": 18,
     "metadata": {},
     "output_type": "execute_result"
    }
   ],
   "source": [
    "core_weather.index"
   ]
  },
  {
   "cell_type": "code",
   "execution_count": 19,
   "id": "c94fa7cf",
   "metadata": {},
   "outputs": [],
   "source": [
    "core_weather.index = pd.to_datetime(core_weather.index)"
   ]
  },
  {
   "cell_type": "code",
   "execution_count": 20,
   "id": "73e90e58",
   "metadata": {},
   "outputs": [
    {
     "data": {
      "text/plain": [
       "DatetimeIndex(['1960-01-01', '1960-01-02', '1960-01-03', '1960-01-04',\n",
       "               '1960-01-05', '1960-01-06', '1960-01-07', '1960-01-08',\n",
       "               '1960-01-09', '1960-01-10',\n",
       "               ...\n",
       "               '2024-08-23', '2024-08-24', '2024-08-25', '2024-08-26',\n",
       "               '2024-08-27', '2024-08-28', '2024-08-29', '2024-08-30',\n",
       "               '2024-08-31', '2024-09-01'],\n",
       "              dtype='datetime64[ns]', name='DATE', length=17807, freq=None)"
      ]
     },
     "execution_count": 20,
     "metadata": {},
     "output_type": "execute_result"
    }
   ],
   "source": [
    "core_weather.index"
   ]
  },
  {
   "cell_type": "code",
   "execution_count": 21,
   "id": "3e0a5dde",
   "metadata": {},
   "outputs": [
    {
     "data": {
      "text/plain": [
       "precipitation    0\n",
       "temp_max         0\n",
       "temp_min         0\n",
       "dtype: int64"
      ]
     },
     "execution_count": 21,
     "metadata": {},
     "output_type": "execute_result"
    }
   ],
   "source": [
    "#As mentioned in data documentation, 9’s in a field (e.g.9999) indicate missing data or data that has not been received.\n",
    "#Checking for '9999' in our dataframe\n",
    "core_weather.apply(lambda x: (x==9999).sum())"
   ]
  },
  {
   "cell_type": "code",
   "execution_count": 22,
   "id": "4e8b12e7",
   "metadata": {},
   "outputs": [
    {
     "data": {
      "text/html": [
       "<div>\n",
       "<style scoped>\n",
       "    .dataframe tbody tr th:only-of-type {\n",
       "        vertical-align: middle;\n",
       "    }\n",
       "\n",
       "    .dataframe tbody tr th {\n",
       "        vertical-align: top;\n",
       "    }\n",
       "\n",
       "    .dataframe thead th {\n",
       "        text-align: right;\n",
       "    }\n",
       "</style>\n",
       "<table border=\"1\" class=\"dataframe\">\n",
       "  <thead>\n",
       "    <tr style=\"text-align: right;\">\n",
       "      <th></th>\n",
       "      <th>precipitation</th>\n",
       "      <th>temp_max</th>\n",
       "      <th>temp_min</th>\n",
       "      <th>target</th>\n",
       "    </tr>\n",
       "    <tr>\n",
       "      <th>DATE</th>\n",
       "      <th></th>\n",
       "      <th></th>\n",
       "      <th></th>\n",
       "      <th></th>\n",
       "    </tr>\n",
       "  </thead>\n",
       "  <tbody>\n",
       "    <tr>\n",
       "      <th>1960-01-01</th>\n",
       "      <td>0.0</td>\n",
       "      <td>49.0</td>\n",
       "      <td>30.0</td>\n",
       "      <td>49.0</td>\n",
       "    </tr>\n",
       "    <tr>\n",
       "      <th>1960-01-02</th>\n",
       "      <td>0.0</td>\n",
       "      <td>49.0</td>\n",
       "      <td>29.0</td>\n",
       "      <td>54.0</td>\n",
       "    </tr>\n",
       "    <tr>\n",
       "      <th>1960-01-03</th>\n",
       "      <td>0.0</td>\n",
       "      <td>54.0</td>\n",
       "      <td>35.0</td>\n",
       "      <td>54.0</td>\n",
       "    </tr>\n",
       "    <tr>\n",
       "      <th>1960-01-04</th>\n",
       "      <td>0.0</td>\n",
       "      <td>54.0</td>\n",
       "      <td>36.0</td>\n",
       "      <td>55.0</td>\n",
       "    </tr>\n",
       "    <tr>\n",
       "      <th>1960-01-05</th>\n",
       "      <td>0.0</td>\n",
       "      <td>55.0</td>\n",
       "      <td>33.0</td>\n",
       "      <td>53.0</td>\n",
       "    </tr>\n",
       "    <tr>\n",
       "      <th>...</th>\n",
       "      <td>...</td>\n",
       "      <td>...</td>\n",
       "      <td>...</td>\n",
       "      <td>...</td>\n",
       "    </tr>\n",
       "    <tr>\n",
       "      <th>2024-08-28</th>\n",
       "      <td>0.0</td>\n",
       "      <td>75.0</td>\n",
       "      <td>58.0</td>\n",
       "      <td>72.0</td>\n",
       "    </tr>\n",
       "    <tr>\n",
       "      <th>2024-08-29</th>\n",
       "      <td>0.0</td>\n",
       "      <td>72.0</td>\n",
       "      <td>61.0</td>\n",
       "      <td>74.0</td>\n",
       "    </tr>\n",
       "    <tr>\n",
       "      <th>2024-08-30</th>\n",
       "      <td>0.0</td>\n",
       "      <td>74.0</td>\n",
       "      <td>62.0</td>\n",
       "      <td>74.0</td>\n",
       "    </tr>\n",
       "    <tr>\n",
       "      <th>2024-08-31</th>\n",
       "      <td>0.0</td>\n",
       "      <td>74.0</td>\n",
       "      <td>61.0</td>\n",
       "      <td>76.0</td>\n",
       "    </tr>\n",
       "    <tr>\n",
       "      <th>2024-09-01</th>\n",
       "      <td>0.0</td>\n",
       "      <td>76.0</td>\n",
       "      <td>61.0</td>\n",
       "      <td>NaN</td>\n",
       "    </tr>\n",
       "  </tbody>\n",
       "</table>\n",
       "<p>17807 rows × 4 columns</p>\n",
       "</div>"
      ],
      "text/plain": [
       "            precipitation  temp_max  temp_min  target\n",
       "DATE                                                 \n",
       "1960-01-01            0.0      49.0      30.0    49.0\n",
       "1960-01-02            0.0      49.0      29.0    54.0\n",
       "1960-01-03            0.0      54.0      35.0    54.0\n",
       "1960-01-04            0.0      54.0      36.0    55.0\n",
       "1960-01-05            0.0      55.0      33.0    53.0\n",
       "...                   ...       ...       ...     ...\n",
       "2024-08-28            0.0      75.0      58.0    72.0\n",
       "2024-08-29            0.0      72.0      61.0    74.0\n",
       "2024-08-30            0.0      74.0      62.0    74.0\n",
       "2024-08-31            0.0      74.0      61.0    76.0\n",
       "2024-09-01            0.0      76.0      61.0     NaN\n",
       "\n",
       "[17807 rows x 4 columns]"
      ]
     },
     "execution_count": 22,
     "metadata": {},
     "output_type": "execute_result"
    }
   ],
   "source": [
    "#Creating a new feature 'target' which contains the maximum temperature of next day (this can be used for predictions)\n",
    "core_weather[\"target\"] = core_weather.shift(-1)[\"temp_max\"]\n",
    "core_weather"
   ]
  },
  {
   "cell_type": "code",
   "execution_count": 23,
   "id": "a11d1bc4",
   "metadata": {},
   "outputs": [
    {
     "data": {
      "text/html": [
       "<div>\n",
       "<style scoped>\n",
       "    .dataframe tbody tr th:only-of-type {\n",
       "        vertical-align: middle;\n",
       "    }\n",
       "\n",
       "    .dataframe tbody tr th {\n",
       "        vertical-align: top;\n",
       "    }\n",
       "\n",
       "    .dataframe thead th {\n",
       "        text-align: right;\n",
       "    }\n",
       "</style>\n",
       "<table border=\"1\" class=\"dataframe\">\n",
       "  <thead>\n",
       "    <tr style=\"text-align: right;\">\n",
       "      <th></th>\n",
       "      <th>precipitation</th>\n",
       "      <th>temp_max</th>\n",
       "      <th>temp_min</th>\n",
       "      <th>target</th>\n",
       "    </tr>\n",
       "    <tr>\n",
       "      <th>DATE</th>\n",
       "      <th></th>\n",
       "      <th></th>\n",
       "      <th></th>\n",
       "      <th></th>\n",
       "    </tr>\n",
       "  </thead>\n",
       "  <tbody>\n",
       "    <tr>\n",
       "      <th>1960-01-01</th>\n",
       "      <td>0.0</td>\n",
       "      <td>49.0</td>\n",
       "      <td>30.0</td>\n",
       "      <td>49.0</td>\n",
       "    </tr>\n",
       "    <tr>\n",
       "      <th>1960-01-02</th>\n",
       "      <td>0.0</td>\n",
       "      <td>49.0</td>\n",
       "      <td>29.0</td>\n",
       "      <td>54.0</td>\n",
       "    </tr>\n",
       "    <tr>\n",
       "      <th>1960-01-03</th>\n",
       "      <td>0.0</td>\n",
       "      <td>54.0</td>\n",
       "      <td>35.0</td>\n",
       "      <td>54.0</td>\n",
       "    </tr>\n",
       "    <tr>\n",
       "      <th>1960-01-04</th>\n",
       "      <td>0.0</td>\n",
       "      <td>54.0</td>\n",
       "      <td>36.0</td>\n",
       "      <td>55.0</td>\n",
       "    </tr>\n",
       "    <tr>\n",
       "      <th>1960-01-05</th>\n",
       "      <td>0.0</td>\n",
       "      <td>55.0</td>\n",
       "      <td>33.0</td>\n",
       "      <td>53.0</td>\n",
       "    </tr>\n",
       "    <tr>\n",
       "      <th>...</th>\n",
       "      <td>...</td>\n",
       "      <td>...</td>\n",
       "      <td>...</td>\n",
       "      <td>...</td>\n",
       "    </tr>\n",
       "    <tr>\n",
       "      <th>2024-08-27</th>\n",
       "      <td>0.0</td>\n",
       "      <td>90.0</td>\n",
       "      <td>57.0</td>\n",
       "      <td>75.0</td>\n",
       "    </tr>\n",
       "    <tr>\n",
       "      <th>2024-08-28</th>\n",
       "      <td>0.0</td>\n",
       "      <td>75.0</td>\n",
       "      <td>58.0</td>\n",
       "      <td>72.0</td>\n",
       "    </tr>\n",
       "    <tr>\n",
       "      <th>2024-08-29</th>\n",
       "      <td>0.0</td>\n",
       "      <td>72.0</td>\n",
       "      <td>61.0</td>\n",
       "      <td>74.0</td>\n",
       "    </tr>\n",
       "    <tr>\n",
       "      <th>2024-08-30</th>\n",
       "      <td>0.0</td>\n",
       "      <td>74.0</td>\n",
       "      <td>62.0</td>\n",
       "      <td>74.0</td>\n",
       "    </tr>\n",
       "    <tr>\n",
       "      <th>2024-08-31</th>\n",
       "      <td>0.0</td>\n",
       "      <td>74.0</td>\n",
       "      <td>61.0</td>\n",
       "      <td>76.0</td>\n",
       "    </tr>\n",
       "  </tbody>\n",
       "</table>\n",
       "<p>17806 rows × 4 columns</p>\n",
       "</div>"
      ],
      "text/plain": [
       "            precipitation  temp_max  temp_min  target\n",
       "DATE                                                 \n",
       "1960-01-01            0.0      49.0      30.0    49.0\n",
       "1960-01-02            0.0      49.0      29.0    54.0\n",
       "1960-01-03            0.0      54.0      35.0    54.0\n",
       "1960-01-04            0.0      54.0      36.0    55.0\n",
       "1960-01-05            0.0      55.0      33.0    53.0\n",
       "...                   ...       ...       ...     ...\n",
       "2024-08-27            0.0      90.0      57.0    75.0\n",
       "2024-08-28            0.0      75.0      58.0    72.0\n",
       "2024-08-29            0.0      72.0      61.0    74.0\n",
       "2024-08-30            0.0      74.0      62.0    74.0\n",
       "2024-08-31            0.0      74.0      61.0    76.0\n",
       "\n",
       "[17806 rows x 4 columns]"
      ]
     },
     "execution_count": 23,
     "metadata": {},
     "output_type": "execute_result"
    }
   ],
   "source": [
    "#Removing the last row as it contains null value\n",
    "core_weather = core_weather.iloc[:-1,:].copy()\n",
    "core_weather"
   ]
  },
  {
   "cell_type": "raw",
   "id": "59d36fb7",
   "metadata": {},
   "source": [
    "#Model training and evaluation"
   ]
  },
  {
   "cell_type": "code",
   "execution_count": 24,
   "id": "f816c9a5",
   "metadata": {},
   "outputs": [],
   "source": [
    "reg = Ridge(alpha=.1)"
   ]
  },
  {
   "cell_type": "code",
   "execution_count": 25,
   "id": "5d8390c2",
   "metadata": {},
   "outputs": [],
   "source": [
    "predictors = [\"precipitation\", \"temp_max\", \"temp_min\"]"
   ]
  },
  {
   "cell_type": "code",
   "execution_count": 26,
   "id": "701d5845",
   "metadata": {},
   "outputs": [],
   "source": [
    "train = core_weather.loc[:\"2020-12-31\"]"
   ]
  },
  {
   "cell_type": "code",
   "execution_count": 27,
   "id": "ceac6440",
   "metadata": {},
   "outputs": [],
   "source": [
    "test = core_weather.loc[\"2021-01-01\":]"
   ]
  },
  {
   "cell_type": "code",
   "execution_count": 28,
   "id": "5a45b7f5",
   "metadata": {},
   "outputs": [
    {
     "data": {
      "text/plain": [
       "Ridge(alpha=0.1)"
      ]
     },
     "execution_count": 28,
     "metadata": {},
     "output_type": "execute_result"
    }
   ],
   "source": [
    "reg.fit(train[predictors], train[\"target\"])"
   ]
  },
  {
   "cell_type": "code",
   "execution_count": 29,
   "id": "37c1fa43",
   "metadata": {},
   "outputs": [],
   "source": [
    "predictions = reg.predict(test[predictors])"
   ]
  },
  {
   "cell_type": "code",
   "execution_count": 30,
   "id": "a94c3646",
   "metadata": {},
   "outputs": [
    {
     "data": {
      "text/plain": [
       "3.3198368926725252"
      ]
     },
     "execution_count": 30,
     "metadata": {},
     "output_type": "execute_result"
    }
   ],
   "source": [
    "mean_absolute_error(test[\"target\"], predictions)"
   ]
  },
  {
   "cell_type": "code",
   "execution_count": 31,
   "id": "c200bc1c",
   "metadata": {},
   "outputs": [
    {
     "data": {
      "text/html": [
       "<div>\n",
       "<style scoped>\n",
       "    .dataframe tbody tr th:only-of-type {\n",
       "        vertical-align: middle;\n",
       "    }\n",
       "\n",
       "    .dataframe tbody tr th {\n",
       "        vertical-align: top;\n",
       "    }\n",
       "\n",
       "    .dataframe thead th {\n",
       "        text-align: right;\n",
       "    }\n",
       "</style>\n",
       "<table border=\"1\" class=\"dataframe\">\n",
       "  <thead>\n",
       "    <tr style=\"text-align: right;\">\n",
       "      <th></th>\n",
       "      <th>actual</th>\n",
       "      <th>predictions</th>\n",
       "    </tr>\n",
       "    <tr>\n",
       "      <th>DATE</th>\n",
       "      <th></th>\n",
       "      <th></th>\n",
       "    </tr>\n",
       "  </thead>\n",
       "  <tbody>\n",
       "    <tr>\n",
       "      <th>2021-01-01</th>\n",
       "      <td>57.0</td>\n",
       "      <td>59.806024</td>\n",
       "    </tr>\n",
       "    <tr>\n",
       "      <th>2021-01-02</th>\n",
       "      <td>56.0</td>\n",
       "      <td>59.310181</td>\n",
       "    </tr>\n",
       "    <tr>\n",
       "      <th>2021-01-03</th>\n",
       "      <td>62.0</td>\n",
       "      <td>58.538685</td>\n",
       "    </tr>\n",
       "    <tr>\n",
       "      <th>2021-01-04</th>\n",
       "      <td>59.0</td>\n",
       "      <td>61.531814</td>\n",
       "    </tr>\n",
       "    <tr>\n",
       "      <th>2021-01-05</th>\n",
       "      <td>59.0</td>\n",
       "      <td>59.444266</td>\n",
       "    </tr>\n",
       "    <tr>\n",
       "      <th>...</th>\n",
       "      <td>...</td>\n",
       "      <td>...</td>\n",
       "    </tr>\n",
       "    <tr>\n",
       "      <th>2024-08-27</th>\n",
       "      <td>75.0</td>\n",
       "      <td>84.494912</td>\n",
       "    </tr>\n",
       "    <tr>\n",
       "      <th>2024-08-28</th>\n",
       "      <td>72.0</td>\n",
       "      <td>73.857527</td>\n",
       "    </tr>\n",
       "    <tr>\n",
       "      <th>2024-08-29</th>\n",
       "      <td>74.0</td>\n",
       "      <td>72.233184</td>\n",
       "    </tr>\n",
       "    <tr>\n",
       "      <th>2024-08-30</th>\n",
       "      <td>74.0</td>\n",
       "      <td>73.855151</td>\n",
       "    </tr>\n",
       "    <tr>\n",
       "      <th>2024-08-31</th>\n",
       "      <td>76.0</td>\n",
       "      <td>73.675460</td>\n",
       "    </tr>\n",
       "  </tbody>\n",
       "</table>\n",
       "<p>1339 rows × 2 columns</p>\n",
       "</div>"
      ],
      "text/plain": [
       "            actual  predictions\n",
       "DATE                           \n",
       "2021-01-01    57.0    59.806024\n",
       "2021-01-02    56.0    59.310181\n",
       "2021-01-03    62.0    58.538685\n",
       "2021-01-04    59.0    61.531814\n",
       "2021-01-05    59.0    59.444266\n",
       "...            ...          ...\n",
       "2024-08-27    75.0    84.494912\n",
       "2024-08-28    72.0    73.857527\n",
       "2024-08-29    74.0    72.233184\n",
       "2024-08-30    74.0    73.855151\n",
       "2024-08-31    76.0    73.675460\n",
       "\n",
       "[1339 rows x 2 columns]"
      ]
     },
     "execution_count": 31,
     "metadata": {},
     "output_type": "execute_result"
    }
   ],
   "source": [
    "combined = pd.concat([test[\"target\"], pd.Series(predictions, index=test.index)], axis=1)\n",
    "combined.columns = [\"actual\", \"predictions\"]\n",
    "combined"
   ]
  },
  {
   "cell_type": "code",
   "execution_count": 32,
   "id": "bd7df882",
   "metadata": {},
   "outputs": [
    {
     "data": {
      "text/plain": [
       "<AxesSubplot:xlabel='DATE'>"
      ]
     },
     "execution_count": 32,
     "metadata": {},
     "output_type": "execute_result"
    },
    {
     "data": {
      "image/png": "[encoded data removed]",
      "text/plain": [
       "<Figure size 432x288 with 1 Axes>"
      ]
     },
     "metadata": {
      "needs_background": "light"
     },
     "output_type": "display_data"
    }
   ],
   "source": [
    "combined.plot()"
   ]
  },
  {
   "cell_type": "code",
   "execution_count": 33,
   "id": "5778f968",
   "metadata": {},
   "outputs": [],
   "source": [
    "#wrapping up in a function\n",
    "def create_predictions(predictors, core_weather, reg):\n",
    "    train = core_weather.loc[:\"2020-12-31\"]\n",
    "    test = core_weather.loc[\"2021-01-01\":]\n",
    "    reg.fit(train[predictors], train[\"target\"])\n",
    "    predictions = reg.predict(test[predictors])\n",
    "    error = mean_absolute_error(test[\"target\"], predictions)\n",
    "    combined = pd.concat([test[\"target\"], pd.Series(predictions, index=test.index)], axis=1)\n",
    "    combined.columns = [\"actual\", \"predictions\"]\n",
    "    return error, combined"
   ]
  },
  {
   "cell_type": "code",
   "execution_count": 34,
   "id": "b1cf1915",
   "metadata": {},
   "outputs": [],
   "source": [
    "core_weather[\"month_max\"] = core_weather[\"temp_max\"].rolling(30).mean()"
   ]
  },
  {
   "cell_type": "code",
   "execution_count": 35,
   "id": "9a1ce707",
   "metadata": {},
   "outputs": [],
   "source": [
    "#core_weather[\"month_day_max\"] = core_weather[\"month_max\"] / core_weather[\"temp_max\"]"
   ]
  },
  {
   "cell_type": "code",
   "execution_count": 36,
   "id": "924dcd33",
   "metadata": {},
   "outputs": [],
   "source": [
    "#core_weather[\"max_to_min\"] = core_weather[\"temp_max\"] / core_weather[\"temp_min\"]"
   ]
  },
  {
   "cell_type": "code",
   "execution_count": 37,
   "id": "09dc1f82",
   "metadata": {},
   "outputs": [
    {
     "data": {
      "text/html": [
       "<div>\n",
       "<style scoped>\n",
       "    .dataframe tbody tr th:only-of-type {\n",
       "        vertical-align: middle;\n",
       "    }\n",
       "\n",
       "    .dataframe tbody tr th {\n",
       "        vertical-align: top;\n",
       "    }\n",
       "\n",
       "    .dataframe thead th {\n",
       "        text-align: right;\n",
       "    }\n",
       "</style>\n",
       "<table border=\"1\" class=\"dataframe\">\n",
       "  <thead>\n",
       "    <tr style=\"text-align: right;\">\n",
       "      <th></th>\n",
       "      <th>precipitation</th>\n",
       "      <th>temp_max</th>\n",
       "      <th>temp_min</th>\n",
       "      <th>target</th>\n",
       "      <th>month_max</th>\n",
       "    </tr>\n",
       "    <tr>\n",
       "      <th>DATE</th>\n",
       "      <th></th>\n",
       "      <th></th>\n",
       "      <th></th>\n",
       "      <th></th>\n",
       "      <th></th>\n",
       "    </tr>\n",
       "  </thead>\n",
       "  <tbody>\n",
       "    <tr>\n",
       "      <th>1960-01-01</th>\n",
       "      <td>0.0</td>\n",
       "      <td>49.0</td>\n",
       "      <td>30.0</td>\n",
       "      <td>49.0</td>\n",
       "      <td>NaN</td>\n",
       "    </tr>\n",
       "    <tr>\n",
       "      <th>1960-01-02</th>\n",
       "      <td>0.0</td>\n",
       "      <td>49.0</td>\n",
       "      <td>29.0</td>\n",
       "      <td>54.0</td>\n",
       "      <td>NaN</td>\n",
       "    </tr>\n",
       "    <tr>\n",
       "      <th>1960-01-03</th>\n",
       "      <td>0.0</td>\n",
       "      <td>54.0</td>\n",
       "      <td>35.0</td>\n",
       "      <td>54.0</td>\n",
       "      <td>NaN</td>\n",
       "    </tr>\n",
       "    <tr>\n",
       "      <th>1960-01-04</th>\n",
       "      <td>0.0</td>\n",
       "      <td>54.0</td>\n",
       "      <td>36.0</td>\n",
       "      <td>55.0</td>\n",
       "      <td>NaN</td>\n",
       "    </tr>\n",
       "    <tr>\n",
       "      <th>1960-01-05</th>\n",
       "      <td>0.0</td>\n",
       "      <td>55.0</td>\n",
       "      <td>33.0</td>\n",
       "      <td>53.0</td>\n",
       "      <td>NaN</td>\n",
       "    </tr>\n",
       "    <tr>\n",
       "      <th>...</th>\n",
       "      <td>...</td>\n",
       "      <td>...</td>\n",
       "      <td>...</td>\n",
       "      <td>...</td>\n",
       "      <td>...</td>\n",
       "    </tr>\n",
       "    <tr>\n",
       "      <th>2024-08-27</th>\n",
       "      <td>0.0</td>\n",
       "      <td>90.0</td>\n",
       "      <td>57.0</td>\n",
       "      <td>75.0</td>\n",
       "      <td>74.866667</td>\n",
       "    </tr>\n",
       "    <tr>\n",
       "      <th>2024-08-28</th>\n",
       "      <td>0.0</td>\n",
       "      <td>75.0</td>\n",
       "      <td>58.0</td>\n",
       "      <td>72.0</td>\n",
       "      <td>75.066667</td>\n",
       "    </tr>\n",
       "    <tr>\n",
       "      <th>2024-08-29</th>\n",
       "      <td>0.0</td>\n",
       "      <td>72.0</td>\n",
       "      <td>61.0</td>\n",
       "      <td>74.0</td>\n",
       "      <td>75.066667</td>\n",
       "    </tr>\n",
       "    <tr>\n",
       "      <th>2024-08-30</th>\n",
       "      <td>0.0</td>\n",
       "      <td>74.0</td>\n",
       "      <td>62.0</td>\n",
       "      <td>74.0</td>\n",
       "      <td>75.066667</td>\n",
       "    </tr>\n",
       "    <tr>\n",
       "      <th>2024-08-31</th>\n",
       "      <td>0.0</td>\n",
       "      <td>74.0</td>\n",
       "      <td>61.0</td>\n",
       "      <td>76.0</td>\n",
       "      <td>75.033333</td>\n",
       "    </tr>\n",
       "  </tbody>\n",
       "</table>\n",
       "<p>17806 rows × 5 columns</p>\n",
       "</div>"
      ],
      "text/plain": [
       "            precipitation  temp_max  temp_min  target  month_max\n",
       "DATE                                                            \n",
       "1960-01-01            0.0      49.0      30.0    49.0        NaN\n",
       "1960-01-02            0.0      49.0      29.0    54.0        NaN\n",
       "1960-01-03            0.0      54.0      35.0    54.0        NaN\n",
       "1960-01-04            0.0      54.0      36.0    55.0        NaN\n",
       "1960-01-05            0.0      55.0      33.0    53.0        NaN\n",
       "...                   ...       ...       ...     ...        ...\n",
       "2024-08-27            0.0      90.0      57.0    75.0  74.866667\n",
       "2024-08-28            0.0      75.0      58.0    72.0  75.066667\n",
       "2024-08-29            0.0      72.0      61.0    74.0  75.066667\n",
       "2024-08-30            0.0      74.0      62.0    74.0  75.066667\n",
       "2024-08-31            0.0      74.0      61.0    76.0  75.033333\n",
       "\n",
       "[17806 rows x 5 columns]"
      ]
     },
     "execution_count": 37,
     "metadata": {},
     "output_type": "execute_result"
    }
   ],
   "source": [
    "core_weather"
   ]
  },
  {
   "cell_type": "code",
   "execution_count": 41,
   "id": "210640d7",
   "metadata": {},
   "outputs": [],
   "source": [
    "predictors = [\"precipitation\", \"temp_max\", \"temp_min\", \"month_max\"]"
   ]
  },
  {
   "cell_type": "code",
   "execution_count": 42,
   "id": "e93eead1",
   "metadata": {},
   "outputs": [],
   "source": [
    "core_weather = core_weather.iloc[30:,:].copy()"
   ]
  },
  {
   "cell_type": "code",
   "execution_count": 43,
   "id": "95e66d50",
   "metadata": {},
   "outputs": [],
   "source": [
    "error, combined = create_predictions(predictors, core_weather, reg)"
   ]
  },
  {
   "cell_type": "code",
   "execution_count": 44,
   "id": "df1bf905",
   "metadata": {},
   "outputs": [
    {
     "data": {
      "text/plain": [
       "3.2395477459537156"
      ]
     },
     "execution_count": 44,
     "metadata": {},
     "output_type": "execute_result"
    }
   ],
   "source": [
    "error"
   ]
  },
  {
   "cell_type": "code",
   "execution_count": 45,
   "id": "d217a07e",
   "metadata": {},
   "outputs": [
    {
     "data": {
      "text/plain": [
       "<AxesSubplot:xlabel='DATE'>"
      ]
     },
     "execution_count": 45,
     "metadata": {},
     "output_type": "execute_result"
    },
    {
     "data": {
      "image/png": "[encoded data removed]",
      "text/plain": [
       "<Figure size 432x288 with 1 Axes>"
      ]
     },
     "metadata": {
      "needs_background": "light"
     },
     "output_type": "display_data"
    }
   ],
   "source": [
    "combined.plot()"
   ]
  },
  {
   "cell_type": "code",
   "execution_count": 46,
   "id": "69491d68",
   "metadata": {},
   "outputs": [],
   "source": [
    "core_weather[\"monthly_avg\"] = core_weather[\"temp_max\"].groupby(core_weather.index.month).apply(lambda x: x.expanding(1).mean())"
   ]
  },
  {
   "cell_type": "code",
   "execution_count": 47,
   "id": "c202eb25",
   "metadata": {},
   "outputs": [],
   "source": [
    "core_weather[\"day_of_year_avg\"] = core_weather[\"temp_max\"].groupby(core_weather.index.day_of_year).apply(lambda x: x.expanding(1).mean())"
   ]
  },
  {
   "cell_type": "code",
   "execution_count": 48,
   "id": "b06342de",
   "metadata": {},
   "outputs": [
    {
     "data": {
      "text/html": [
       "<div>\n",
       "<style scoped>\n",
       "    .dataframe tbody tr th:only-of-type {\n",
       "        vertical-align: middle;\n",
       "    }\n",
       "\n",
       "    .dataframe tbody tr th {\n",
       "        vertical-align: top;\n",
       "    }\n",
       "\n",
       "    .dataframe thead th {\n",
       "        text-align: right;\n",
       "    }\n",
       "</style>\n",
       "<table border=\"1\" class=\"dataframe\">\n",
       "  <thead>\n",
       "    <tr style=\"text-align: right;\">\n",
       "      <th></th>\n",
       "      <th>precipitation</th>\n",
       "      <th>temp_max</th>\n",
       "      <th>temp_min</th>\n",
       "      <th>target</th>\n",
       "      <th>month_max</th>\n",
       "      <th>monthly_avg</th>\n",
       "      <th>day_of_year_avg</th>\n",
       "    </tr>\n",
       "    <tr>\n",
       "      <th>DATE</th>\n",
       "      <th></th>\n",
       "      <th></th>\n",
       "      <th></th>\n",
       "      <th></th>\n",
       "      <th></th>\n",
       "      <th></th>\n",
       "      <th></th>\n",
       "    </tr>\n",
       "  </thead>\n",
       "  <tbody>\n",
       "    <tr>\n",
       "      <th>1960-03-01</th>\n",
       "      <td>0.00</td>\n",
       "      <td>55.0</td>\n",
       "      <td>43.0</td>\n",
       "      <td>58.0</td>\n",
       "      <td>59.866667</td>\n",
       "      <td>55.000000</td>\n",
       "      <td>55.000000</td>\n",
       "    </tr>\n",
       "    <tr>\n",
       "      <th>1960-03-02</th>\n",
       "      <td>0.00</td>\n",
       "      <td>58.0</td>\n",
       "      <td>40.0</td>\n",
       "      <td>62.0</td>\n",
       "      <td>59.733333</td>\n",
       "      <td>56.500000</td>\n",
       "      <td>58.000000</td>\n",
       "    </tr>\n",
       "    <tr>\n",
       "      <th>1960-03-03</th>\n",
       "      <td>0.00</td>\n",
       "      <td>62.0</td>\n",
       "      <td>47.0</td>\n",
       "      <td>62.0</td>\n",
       "      <td>59.833333</td>\n",
       "      <td>58.333333</td>\n",
       "      <td>62.000000</td>\n",
       "    </tr>\n",
       "    <tr>\n",
       "      <th>1960-03-04</th>\n",
       "      <td>0.00</td>\n",
       "      <td>62.0</td>\n",
       "      <td>52.0</td>\n",
       "      <td>58.0</td>\n",
       "      <td>59.933333</td>\n",
       "      <td>59.250000</td>\n",
       "      <td>62.000000</td>\n",
       "    </tr>\n",
       "    <tr>\n",
       "      <th>1960-03-05</th>\n",
       "      <td>0.13</td>\n",
       "      <td>58.0</td>\n",
       "      <td>54.0</td>\n",
       "      <td>59.0</td>\n",
       "      <td>59.866667</td>\n",
       "      <td>59.000000</td>\n",
       "      <td>58.000000</td>\n",
       "    </tr>\n",
       "    <tr>\n",
       "      <th>...</th>\n",
       "      <td>...</td>\n",
       "      <td>...</td>\n",
       "      <td>...</td>\n",
       "      <td>...</td>\n",
       "      <td>...</td>\n",
       "      <td>...</td>\n",
       "      <td>...</td>\n",
       "    </tr>\n",
       "    <tr>\n",
       "      <th>2024-08-27</th>\n",
       "      <td>0.00</td>\n",
       "      <td>90.0</td>\n",
       "      <td>57.0</td>\n",
       "      <td>75.0</td>\n",
       "      <td>74.866667</td>\n",
       "      <td>72.130779</td>\n",
       "      <td>75.081633</td>\n",
       "    </tr>\n",
       "    <tr>\n",
       "      <th>2024-08-28</th>\n",
       "      <td>0.00</td>\n",
       "      <td>75.0</td>\n",
       "      <td>58.0</td>\n",
       "      <td>72.0</td>\n",
       "      <td>75.066667</td>\n",
       "      <td>72.132673</td>\n",
       "      <td>73.571429</td>\n",
       "    </tr>\n",
       "    <tr>\n",
       "      <th>2024-08-29</th>\n",
       "      <td>0.00</td>\n",
       "      <td>72.0</td>\n",
       "      <td>61.0</td>\n",
       "      <td>74.0</td>\n",
       "      <td>75.066667</td>\n",
       "      <td>72.132586</td>\n",
       "      <td>73.428571</td>\n",
       "    </tr>\n",
       "    <tr>\n",
       "      <th>2024-08-30</th>\n",
       "      <td>0.00</td>\n",
       "      <td>74.0</td>\n",
       "      <td>62.0</td>\n",
       "      <td>74.0</td>\n",
       "      <td>75.066667</td>\n",
       "      <td>72.133817</td>\n",
       "      <td>72.714286</td>\n",
       "    </tr>\n",
       "    <tr>\n",
       "      <th>2024-08-31</th>\n",
       "      <td>0.00</td>\n",
       "      <td>74.0</td>\n",
       "      <td>61.0</td>\n",
       "      <td>76.0</td>\n",
       "      <td>75.033333</td>\n",
       "      <td>72.135046</td>\n",
       "      <td>73.979592</td>\n",
       "    </tr>\n",
       "  </tbody>\n",
       "</table>\n",
       "<p>17746 rows × 7 columns</p>\n",
       "</div>"
      ],
      "text/plain": [
       "            precipitation  temp_max  temp_min  target  month_max  monthly_avg  \\\n",
       "DATE                                                                            \n",
       "1960-03-01           0.00      55.0      43.0    58.0  59.866667    55.000000   \n",
       "1960-03-02           0.00      58.0      40.0    62.0  59.733333    56.500000   \n",
       "1960-03-03           0.00      62.0      47.0    62.0  59.833333    58.333333   \n",
       "1960-03-04           0.00      62.0      52.0    58.0  59.933333    59.250000   \n",
       "1960-03-05           0.13      58.0      54.0    59.0  59.866667    59.000000   \n",
       "...                   ...       ...       ...     ...        ...          ...   \n",
       "2024-08-27           0.00      90.0      57.0    75.0  74.866667    72.130779   \n",
       "2024-08-28           0.00      75.0      58.0    72.0  75.066667    72.132673   \n",
       "2024-08-29           0.00      72.0      61.0    74.0  75.066667    72.132586   \n",
       "2024-08-30           0.00      74.0      62.0    74.0  75.066667    72.133817   \n",
       "2024-08-31           0.00      74.0      61.0    76.0  75.033333    72.135046   \n",
       "\n",
       "            day_of_year_avg  \n",
       "DATE                         \n",
       "1960-03-01        55.000000  \n",
       "1960-03-02        58.000000  \n",
       "1960-03-03        62.000000  \n",
       "1960-03-04        62.000000  \n",
       "1960-03-05        58.000000  \n",
       "...                     ...  \n",
       "2024-08-27        75.081633  \n",
       "2024-08-28        73.571429  \n",
       "2024-08-29        73.428571  \n",
       "2024-08-30        72.714286  \n",
       "2024-08-31        73.979592  \n",
       "\n",
       "[17746 rows x 7 columns]"
      ]
     },
     "execution_count": 48,
     "metadata": {},
     "output_type": "execute_result"
    }
   ],
   "source": [
    "core_weather"
   ]
  },
  {
   "cell_type": "code",
   "execution_count": 51,
   "id": "a041bd90",
   "metadata": {},
   "outputs": [],
   "source": [
    "predictors = [\"precipitation\", \"temp_max\", \"temp_min\", \"month_max\", \"monthly_avg\", \"day_of_year_avg\"]"
   ]
  },
  {
   "cell_type": "code",
   "execution_count": 52,
   "id": "9415b3c3",
   "metadata": {},
   "outputs": [],
   "source": [
    "error, combined = create_predictions(predictors, core_weather, reg)"
   ]
  },
  {
   "cell_type": "code",
   "execution_count": 53,
   "id": "201722a7",
   "metadata": {},
   "outputs": [
    {
     "data": {
      "text/plain": [
       "3.2021298575541786"
      ]
     },
     "execution_count": 53,
     "metadata": {},
     "output_type": "execute_result"
    }
   ],
   "source": [
    "error"
   ]
  },
  {
   "cell_type": "code",
   "execution_count": 54,
   "id": "42ecdfc4",
   "metadata": {},
   "outputs": [],
   "source": [
    "#Adding more features\n",
    "core_weather['temp_max_1'] = core_weather['temp_max'].shift(1)\n",
    "core_weather['temp_min_1'] = core_weather['temp_min'].shift(1)"
   ]
  },
  {
   "cell_type": "code",
   "execution_count": 55,
   "id": "bf094063",
   "metadata": {},
   "outputs": [],
   "source": [
    "core_weather['temp_max_2'] = core_weather['temp_max'].shift(2)\n",
    "core_weather['temp_min_2'] = core_weather['temp_min'].shift(2)"
   ]
  },
  {
   "cell_type": "code",
   "execution_count": 56,
   "id": "f9172444",
   "metadata": {},
   "outputs": [],
   "source": [
    "core_weather[\"week_max\"] = core_weather[\"temp_max\"].rolling(7).mean()\n",
    "#core_weather[\"precip_7_day\"] = core_weather[\"precipitation\"].rolling(7).sum()"
   ]
  },
  {
   "cell_type": "code",
   "execution_count": 57,
   "id": "8b71be59",
   "metadata": {},
   "outputs": [],
   "source": [
    "core_weather = core_weather.iloc[7:,:].copy()"
   ]
  },
  {
   "cell_type": "code",
   "execution_count": 58,
   "id": "7581cd94",
   "metadata": {},
   "outputs": [
    {
     "data": {
      "text/html": [
       "<div>\n",
       "<style scoped>\n",
       "    .dataframe tbody tr th:only-of-type {\n",
       "        vertical-align: middle;\n",
       "    }\n",
       "\n",
       "    .dataframe tbody tr th {\n",
       "        vertical-align: top;\n",
       "    }\n",
       "\n",
       "    .dataframe thead th {\n",
       "        text-align: right;\n",
       "    }\n",
       "</style>\n",
       "<table border=\"1\" class=\"dataframe\">\n",
       "  <thead>\n",
       "    <tr style=\"text-align: right;\">\n",
       "      <th></th>\n",
       "      <th>precipitation</th>\n",
       "      <th>temp_max</th>\n",
       "      <th>temp_min</th>\n",
       "      <th>target</th>\n",
       "      <th>month_max</th>\n",
       "      <th>monthly_avg</th>\n",
       "      <th>day_of_year_avg</th>\n",
       "      <th>temp_max_1</th>\n",
       "      <th>temp_min_1</th>\n",
       "      <th>temp_max_2</th>\n",
       "      <th>temp_min_2</th>\n",
       "      <th>week_max</th>\n",
       "    </tr>\n",
       "    <tr>\n",
       "      <th>DATE</th>\n",
       "      <th></th>\n",
       "      <th></th>\n",
       "      <th></th>\n",
       "      <th></th>\n",
       "      <th></th>\n",
       "      <th></th>\n",
       "      <th></th>\n",
       "      <th></th>\n",
       "      <th></th>\n",
       "      <th></th>\n",
       "      <th></th>\n",
       "      <th></th>\n",
       "    </tr>\n",
       "  </thead>\n",
       "  <tbody>\n",
       "    <tr>\n",
       "      <th>1960-03-08</th>\n",
       "      <td>0.00</td>\n",
       "      <td>61.0</td>\n",
       "      <td>43.0</td>\n",
       "      <td>60.0</td>\n",
       "      <td>59.733333</td>\n",
       "      <td>59.500000</td>\n",
       "      <td>61.000000</td>\n",
       "      <td>61.0</td>\n",
       "      <td>50.0</td>\n",
       "      <td>59.0</td>\n",
       "      <td>52.0</td>\n",
       "      <td>60.142857</td>\n",
       "    </tr>\n",
       "    <tr>\n",
       "      <th>1960-03-09</th>\n",
       "      <td>0.00</td>\n",
       "      <td>60.0</td>\n",
       "      <td>44.0</td>\n",
       "      <td>62.0</td>\n",
       "      <td>59.733333</td>\n",
       "      <td>59.555556</td>\n",
       "      <td>60.000000</td>\n",
       "      <td>61.0</td>\n",
       "      <td>43.0</td>\n",
       "      <td>61.0</td>\n",
       "      <td>50.0</td>\n",
       "      <td>60.428571</td>\n",
       "    </tr>\n",
       "    <tr>\n",
       "      <th>1960-03-10</th>\n",
       "      <td>0.00</td>\n",
       "      <td>62.0</td>\n",
       "      <td>38.0</td>\n",
       "      <td>60.0</td>\n",
       "      <td>59.966667</td>\n",
       "      <td>59.800000</td>\n",
       "      <td>62.000000</td>\n",
       "      <td>60.0</td>\n",
       "      <td>44.0</td>\n",
       "      <td>61.0</td>\n",
       "      <td>43.0</td>\n",
       "      <td>60.428571</td>\n",
       "    </tr>\n",
       "    <tr>\n",
       "      <th>1960-03-11</th>\n",
       "      <td>0.13</td>\n",
       "      <td>60.0</td>\n",
       "      <td>49.0</td>\n",
       "      <td>59.0</td>\n",
       "      <td>59.966667</td>\n",
       "      <td>59.818182</td>\n",
       "      <td>60.000000</td>\n",
       "      <td>62.0</td>\n",
       "      <td>38.0</td>\n",
       "      <td>60.0</td>\n",
       "      <td>44.0</td>\n",
       "      <td>60.142857</td>\n",
       "    </tr>\n",
       "    <tr>\n",
       "      <th>1960-03-12</th>\n",
       "      <td>0.30</td>\n",
       "      <td>59.0</td>\n",
       "      <td>52.0</td>\n",
       "      <td>62.0</td>\n",
       "      <td>59.900000</td>\n",
       "      <td>59.750000</td>\n",
       "      <td>59.000000</td>\n",
       "      <td>60.0</td>\n",
       "      <td>49.0</td>\n",
       "      <td>62.0</td>\n",
       "      <td>38.0</td>\n",
       "      <td>60.285714</td>\n",
       "    </tr>\n",
       "    <tr>\n",
       "      <th>...</th>\n",
       "      <td>...</td>\n",
       "      <td>...</td>\n",
       "      <td>...</td>\n",
       "      <td>...</td>\n",
       "      <td>...</td>\n",
       "      <td>...</td>\n",
       "      <td>...</td>\n",
       "      <td>...</td>\n",
       "      <td>...</td>\n",
       "      <td>...</td>\n",
       "      <td>...</td>\n",
       "      <td>...</td>\n",
       "    </tr>\n",
       "    <tr>\n",
       "      <th>2024-08-27</th>\n",
       "      <td>0.00</td>\n",
       "      <td>90.0</td>\n",
       "      <td>57.0</td>\n",
       "      <td>75.0</td>\n",
       "      <td>74.866667</td>\n",
       "      <td>72.130779</td>\n",
       "      <td>75.081633</td>\n",
       "      <td>87.0</td>\n",
       "      <td>59.0</td>\n",
       "      <td>82.0</td>\n",
       "      <td>57.0</td>\n",
       "      <td>79.142857</td>\n",
       "    </tr>\n",
       "    <tr>\n",
       "      <th>2024-08-28</th>\n",
       "      <td>0.00</td>\n",
       "      <td>75.0</td>\n",
       "      <td>58.0</td>\n",
       "      <td>72.0</td>\n",
       "      <td>75.066667</td>\n",
       "      <td>72.132673</td>\n",
       "      <td>73.571429</td>\n",
       "      <td>90.0</td>\n",
       "      <td>57.0</td>\n",
       "      <td>87.0</td>\n",
       "      <td>59.0</td>\n",
       "      <td>79.285714</td>\n",
       "    </tr>\n",
       "    <tr>\n",
       "      <th>2024-08-29</th>\n",
       "      <td>0.00</td>\n",
       "      <td>72.0</td>\n",
       "      <td>61.0</td>\n",
       "      <td>74.0</td>\n",
       "      <td>75.066667</td>\n",
       "      <td>72.132586</td>\n",
       "      <td>73.428571</td>\n",
       "      <td>75.0</td>\n",
       "      <td>58.0</td>\n",
       "      <td>90.0</td>\n",
       "      <td>57.0</td>\n",
       "      <td>79.142857</td>\n",
       "    </tr>\n",
       "    <tr>\n",
       "      <th>2024-08-30</th>\n",
       "      <td>0.00</td>\n",
       "      <td>74.0</td>\n",
       "      <td>62.0</td>\n",
       "      <td>74.0</td>\n",
       "      <td>75.066667</td>\n",
       "      <td>72.133817</td>\n",
       "      <td>72.714286</td>\n",
       "      <td>72.0</td>\n",
       "      <td>61.0</td>\n",
       "      <td>75.0</td>\n",
       "      <td>58.0</td>\n",
       "      <td>79.428571</td>\n",
       "    </tr>\n",
       "    <tr>\n",
       "      <th>2024-08-31</th>\n",
       "      <td>0.00</td>\n",
       "      <td>74.0</td>\n",
       "      <td>61.0</td>\n",
       "      <td>76.0</td>\n",
       "      <td>75.033333</td>\n",
       "      <td>72.135046</td>\n",
       "      <td>73.979592</td>\n",
       "      <td>74.0</td>\n",
       "      <td>62.0</td>\n",
       "      <td>72.0</td>\n",
       "      <td>61.0</td>\n",
       "      <td>79.142857</td>\n",
       "    </tr>\n",
       "  </tbody>\n",
       "</table>\n",
       "<p>17739 rows × 12 columns</p>\n",
       "</div>"
      ],
      "text/plain": [
       "            precipitation  temp_max  temp_min  target  month_max  monthly_avg  \\\n",
       "DATE                                                                            \n",
       "1960-03-08           0.00      61.0      43.0    60.0  59.733333    59.500000   \n",
       "1960-03-09           0.00      60.0      44.0    62.0  59.733333    59.555556   \n",
       "1960-03-10           0.00      62.0      38.0    60.0  59.966667    59.800000   \n",
       "1960-03-11           0.13      60.0      49.0    59.0  59.966667    59.818182   \n",
       "1960-03-12           0.30      59.0      52.0    62.0  59.900000    59.750000   \n",
       "...                   ...       ...       ...     ...        ...          ...   \n",
       "2024-08-27           0.00      90.0      57.0    75.0  74.866667    72.130779   \n",
       "2024-08-28           0.00      75.0      58.0    72.0  75.066667    72.132673   \n",
       "2024-08-29           0.00      72.0      61.0    74.0  75.066667    72.132586   \n",
       "2024-08-30           0.00      74.0      62.0    74.0  75.066667    72.133817   \n",
       "2024-08-31           0.00      74.0      61.0    76.0  75.033333    72.135046   \n",
       "\n",
       "            day_of_year_avg  temp_max_1  temp_min_1  temp_max_2  temp_min_2  \\\n",
       "DATE                                                                          \n",
       "1960-03-08        61.000000        61.0        50.0        59.0        52.0   \n",
       "1960-03-09        60.000000        61.0        43.0        61.0        50.0   \n",
       "1960-03-10        62.000000        60.0        44.0        61.0        43.0   \n",
       "1960-03-11        60.000000        62.0        38.0        60.0        44.0   \n",
       "1960-03-12        59.000000        60.0        49.0        62.0        38.0   \n",
       "...                     ...         ...         ...         ...         ...   \n",
       "2024-08-27        75.081633        87.0        59.0        82.0        57.0   \n",
       "2024-08-28        73.571429        90.0        57.0        87.0        59.0   \n",
       "2024-08-29        73.428571        75.0        58.0        90.0        57.0   \n",
       "2024-08-30        72.714286        72.0        61.0        75.0        58.0   \n",
       "2024-08-31        73.979592        74.0        62.0        72.0        61.0   \n",
       "\n",
       "             week_max  \n",
       "DATE                   \n",
       "1960-03-08  60.142857  \n",
       "1960-03-09  60.428571  \n",
       "1960-03-10  60.428571  \n",
       "1960-03-11  60.142857  \n",
       "1960-03-12  60.285714  \n",
       "...               ...  \n",
       "2024-08-27  79.142857  \n",
       "2024-08-28  79.285714  \n",
       "2024-08-29  79.142857  \n",
       "2024-08-30  79.428571  \n",
       "2024-08-31  79.142857  \n",
       "\n",
       "[17739 rows x 12 columns]"
      ]
     },
     "execution_count": 58,
     "metadata": {},
     "output_type": "execute_result"
    }
   ],
   "source": [
    "core_weather"
   ]
  },
  {
   "cell_type": "code",
   "execution_count": 59,
   "id": "229c3cab",
   "metadata": {},
   "outputs": [],
   "source": [
    "predictors = [\"precipitation\", \"temp_max\", \"temp_min\", \"month_max\", \"monthly_avg\", \"day_of_year_avg\", \"temp_max_2\", \"temp_min_2\", \"temp_max_1\", \"temp_min_1\", \"week_max\"]"
   ]
  },
  {
   "cell_type": "code",
   "execution_count": 60,
   "id": "9273738a",
   "metadata": {},
   "outputs": [],
   "source": [
    "error, combined = create_predictions(predictors, core_weather, reg)"
   ]
  },
  {
   "cell_type": "code",
   "execution_count": 61,
   "id": "5b73a348",
   "metadata": {},
   "outputs": [
    {
     "name": "stdout",
     "output_type": "stream",
     "text": [
      "Mean Absolute Error after adding features: 3.1849\n"
     ]
    }
   ],
   "source": [
    "print(f\"Mean Absolute Error after adding features: {round(error, 4)}\")"
   ]
  },
  {
   "cell_type": "raw",
   "id": "c9641342",
   "metadata": {},
   "source": [
    "#Managed to reduce the mean absolute error from 3.3198 to 3.1848"
   ]
  },
  {
   "cell_type": "code",
   "execution_count": 62,
   "id": "6e3bffbb",
   "metadata": {},
   "outputs": [
    {
     "data": {
      "text/plain": [
       "precipitation     -0.206045\n",
       "temp_max           0.821813\n",
       "temp_min           0.597104\n",
       "target             1.000000\n",
       "month_max          0.688712\n",
       "monthly_avg        0.691252\n",
       "day_of_year_avg    0.713118\n",
       "temp_max_1         0.681589\n",
       "temp_min_1         0.577740\n",
       "temp_max_2         0.605556\n",
       "temp_min_2         0.570949\n",
       "week_max           0.727938\n",
       "Name: target, dtype: float64"
      ]
     },
     "execution_count": 62,
     "metadata": {},
     "output_type": "execute_result"
    }
   ],
   "source": [
    "core_weather.corr()[\"target\"]"
   ]
  },
  {
   "cell_type": "code",
   "execution_count": 63,
   "id": "08bf7460",
   "metadata": {},
   "outputs": [
    {
     "data": {
      "text/plain": [
       "<AxesSubplot:>"
      ]
     },
     "execution_count": 63,
     "metadata": {},
     "output_type": "execute_result"
    },
    {
     "data": {
      "image/png": "[encoded data removed]",
      "text/plain": [
       "<Figure size 720x720 with 2 Axes>"
      ]
     },
     "metadata": {
      "needs_background": "light"
     },
     "output_type": "display_data"
    }
   ],
   "source": [
    "#plotting heatmap to have visual insight of correlation of features\n",
    "plt.figure(figsize=(10,10))\n",
    "sns.heatmap(core_weather.corr(), annot=True, cmap=\"Blues\")"
   ]
  },
  {
   "cell_type": "code",
   "execution_count": 64,
   "id": "e773eb40",
   "metadata": {},
   "outputs": [
    {
     "data": {
      "text/plain": [
       "<AxesSubplot:xlabel='DATE'>"
      ]
     },
     "execution_count": 64,
     "metadata": {},
     "output_type": "execute_result"
    },
    {
     "data": {
      "image/png": "[encoded data removed]",
      "text/plain": [
       "<Figure size 432x288 with 1 Axes>"
      ]
     },
     "metadata": {
      "needs_background": "light"
     },
     "output_type": "display_data"
    }
   ],
   "source": [
    "combined.plot()"
   ]
  },
  {
   "cell_type": "code",
   "execution_count": null,
   "id": "1030e58f",
   "metadata": {},
   "outputs": [],
   "source": []
  }
 ],
 "metadata": {
  "kernelspec": {
   "display_name": "Python 3 (ipykernel)",
   "language": "python",
   "name": "python3"
  },
  "language_info": {
   "codemirror_mode": {
    "name": "ipython",
    "version": 3
   },
   "file_extension": ".py",
   "mimetype": "text/x-python",
   "name": "python",
   "nbconvert_exporter": "python",
   "pygments_lexer": "ipython3",
   "version": "3.9.12"
  }
 },
 "nbformat": 4,
 "nbformat_minor": 5
}
